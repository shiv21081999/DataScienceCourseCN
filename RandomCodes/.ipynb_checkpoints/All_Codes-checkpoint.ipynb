{
 "cells": [
  {
   "cell_type": "markdown",
   "metadata": {},
   "source": [
    "#### Loops with else"
   ]
  },
  {
   "cell_type": "code",
   "execution_count": 24,
   "metadata": {},
   "outputs": [
    {
     "name": "stdout",
     "output_type": "stream",
     "text": [
      "Enter a number: 10\n",
      "1 2 3 4 5 6 7 8 9 end\n"
     ]
    }
   ],
   "source": [
    "# this thing is interesting when we use it with break i.e else statement will not be executed if the condition in while \n",
    "# is true :)\n",
    "i = 1\n",
    "n = int(input(\"Enter a number: \"))\n",
    "while i < n:\n",
    "    print(i, end = \" \")\n",
    "    i +=1\n",
    "else:\n",
    "    print(\"end\")"
   ]
  },
  {
   "cell_type": "code",
   "execution_count": 25,
   "metadata": {},
   "outputs": [
    {
     "name": "stdout",
     "output_type": "stream",
     "text": [
      "Enter a number: 10\n",
      "1 2 3 4 5 6 7 8 9 end\n"
     ]
    }
   ],
   "source": [
    "# similar for \"for\" loop\n",
    "n = int(input(\"Enter a number: \"))\n",
    "for i in range(1, n):\n",
    "    print(i, end = \" \")\n",
    "else:\n",
    "    print(\"end\")"
   ]
  },
  {
   "cell_type": "code",
   "execution_count": 27,
   "metadata": {},
   "outputs": [
    {
     "name": "stdout",
     "output_type": "stream",
     "text": [
      "Enter the number: 10\n",
      "1 2 3 4 5 "
     ]
    }
   ],
   "source": [
    "# If we use else with break statement :\n",
    "i = 1\n",
    "n = int(input(\"Enter the number: \"))\n",
    "while i < n:\n",
    "    print(i, end = \" \")\n",
    "    if(i == 5):\n",
    "        break\n",
    "    i+=1\n",
    "else:\n",
    "    print(\"reached the condition\")"
   ]
  },
  {
   "cell_type": "code",
   "execution_count": 29,
   "metadata": {},
   "outputs": [
    {
     "name": "stdout",
     "output_type": "stream",
     "text": [
      "Enter a number: 10\n",
      "1 2 3 4 5 "
     ]
    }
   ],
   "source": [
    "n = int(input(\"Enter a number: \"))\n",
    "for i in range(1, n):\n",
    "    print(i, end = \" \")\n",
    "    if i == 5:\n",
    "        break\n",
    "else:\n",
    "    print(\"end\")"
   ]
  },
  {
   "cell_type": "markdown",
   "metadata": {},
   "source": [
    "#### Decimal To Binary"
   ]
  },
  {
   "cell_type": "code",
   "execution_count": 31,
   "metadata": {},
   "outputs": [
    {
     "name": "stdout",
     "output_type": "stream",
     "text": [
      "5\n",
      "101\n"
     ]
    }
   ],
   "source": [
    "n = int(input())\n",
    "ans = ''\n",
    "while n > 0:\n",
    "    r = int(n % 2)\n",
    "    ans = str(r) + ans\n",
    "    n//=2\n",
    "print(ans)"
   ]
  },
  {
   "cell_type": "markdown",
   "metadata": {},
   "source": [
    "#### Binary To Decimal "
   ]
  },
  {
   "cell_type": "code",
   "execution_count": 34,
   "metadata": {},
   "outputs": [
    {
     "name": "stdout",
     "output_type": "stream",
     "text": [
      "1000000001\n",
      "513\n"
     ]
    }
   ],
   "source": [
    "n = int(input())\n",
    "mul = 1\n",
    "ans = 0\n",
    "while(n > 0):\n",
    "    r = (int(n%10))*mul\n",
    "    ans+=r\n",
    "    mul*=2\n",
    "    n//=10\n",
    "print(ans)"
   ]
  },
  {
   "cell_type": "markdown",
   "metadata": {},
   "source": [
    "#### Even fibonacci numbers"
   ]
  },
  {
   "cell_type": "code",
   "execution_count": 36,
   "metadata": {},
   "outputs": [
    {
     "name": "stdout",
     "output_type": "stream",
     "text": [
      "8\n",
      "10\n"
     ]
    }
   ],
   "source": [
    "n = int(input())\n",
    "a = 1\n",
    "b = 1\n",
    "c = 0\n",
    "sum = 0\n",
    "while c <= n:\n",
    "    if c%2 == 0:\n",
    "        sum+=c\n",
    "    c = a+b\n",
    "    a = b\n",
    "    b = c\n",
    "print(sum)"
   ]
  },
  {
   "cell_type": "markdown",
   "metadata": {},
   "source": [
    "#### Trailing zeroes of n!"
   ]
  },
  {
   "cell_type": "code",
   "execution_count": 42,
   "metadata": {},
   "outputs": [
    {
     "name": "stdout",
     "output_type": "stream",
     "text": [
      "100\n",
      "24\n"
     ]
    }
   ],
   "source": [
    "n = int(input())\n",
    "count = 0\n",
    "mul = 5\n",
    "while mul <= n:\n",
    "    count += (n//mul)\n",
    "    mul *= 5\n",
    "print(count)"
   ]
  },
  {
   "cell_type": "markdown",
   "metadata": {},
   "source": [
    "#### Slicing"
   ]
  },
  {
   "cell_type": "code",
   "execution_count": 57,
   "metadata": {},
   "outputs": [
    {
     "name": "stdout",
     "output_type": "stream",
     "text": [
      "re yo\n",
      "o r o\n",
      "melborp eht si tahw em llet esaelp uoy era wo\n"
     ]
    },
    {
     "data": {
      "text/plain": [
       "'how are you please tell me what is the problem'"
      ]
     },
     "execution_count": 57,
     "metadata": {},
     "output_type": "execute_result"
    }
   ],
   "source": [
    "a =\"how are you please tell me what is the problem\"\n",
    "print(a[5:10])\n",
    "print(a[1:10:2]) # third argument is used to skip\n",
    "print(a[:0:-1]) #reverse slicing"
   ]
  },
  {
   "cell_type": "markdown",
   "metadata": {},
   "source": [
    "#### Check palindrome"
   ]
  },
  {
   "cell_type": "code",
   "execution_count": 60,
   "metadata": {},
   "outputs": [
    {
     "name": "stdout",
     "output_type": "stream",
     "text": [
      "acca\n",
      "true\n"
     ]
    }
   ],
   "source": [
    "s = input()\n",
    "n = len(s)\n",
    "r = -1\n",
    "flag = True\n",
    "for i in range(0,n):\n",
    "    if s[i] != s[r]:\n",
    "        flag = False\n",
    "        break\n",
    "    r-=1\n",
    "if flag:\n",
    "    print('true')\n",
    "else:\n",
    "    print('false')"
   ]
  },
  {
   "cell_type": "markdown",
   "metadata": {},
   "source": [
    "#### Print all substring"
   ]
  },
  {
   "cell_type": "code",
   "execution_count": 64,
   "metadata": {},
   "outputs": [
    {
     "name": "stdout",
     "output_type": "stream",
     "text": [
      "abc\n",
      "a\n",
      "ab\n",
      "abc\n",
      "b\n",
      "bc\n",
      "c\n"
     ]
    }
   ],
   "source": [
    "s = input()\n",
    "n = len(s)\n",
    "for i in range(n):\n",
    "    for j in range(i,n):\n",
    "        print(s[i:j+1])\n"
   ]
  },
  {
   "cell_type": "markdown",
   "metadata": {},
   "source": [
    "#### Swap Alternates"
   ]
  },
  {
   "cell_type": "code",
   "execution_count": 72,
   "metadata": {},
   "outputs": [
    {
     "name": "stdout",
     "output_type": "stream",
     "text": [
      "0\n"
     ]
    }
   ],
   "source": [
    "size = int(input())\n",
    "if size != 0:\n",
    "    arr = [int(x) for x in input().split()]\n",
    "    n = len(arr)\n",
    "    for i in range(0,n-1,2):\n",
    "        temp = arr[i]\n",
    "        arr[i] = arr[i+1]\n",
    "        arr[i+1] = temp\n",
    "    for i in arr:\n",
    "        print(i,end = \" \")"
   ]
  },
  {
   "cell_type": "markdown",
   "metadata": {},
   "source": [
    "#### Array Equilibrium index"
   ]
  },
  {
   "cell_type": "code",
   "execution_count": 78,
   "metadata": {},
   "outputs": [
    {
     "name": "stdout",
     "output_type": "stream",
     "text": [
      "7\n",
      "-7 1 5 2 -4 3 0\n",
      "3\n"
     ]
    }
   ],
   "source": [
    "n = int(input())\n",
    "if n != 0:\n",
    "    arr = [int(i) for i in input().split()]\n",
    "    prev = [] \n",
    "    later = [0 for i in range(n)]\n",
    "    prev.append(0)\n",
    "    for i in range(1,n):\n",
    "        prev.append(prev[i-1]+arr[i-1])\n",
    "    for i in range(n-2,0,-1):\n",
    "        later[i] = later[i+1] + arr[i+1]\n",
    "    later[0] = later[1] + arr[1]\n",
    "    flag = False\n",
    "    for i in range(n):\n",
    "        if later[i] == prev[i]:\n",
    "            print(i)\n",
    "            flag = True\n",
    "            break\n",
    "    if flag != True:\n",
    "        print(-1)\n",
    "else:\n",
    "    print(-1)"
   ]
  },
  {
   "cell_type": "markdown",
   "metadata": {},
   "source": [
    "#### This is important"
   ]
  },
  {
   "cell_type": "code",
   "execution_count": 6,
   "metadata": {},
   "outputs": [
    {
     "name": "stdout",
     "output_type": "stream",
     "text": [
      "[10, 23, 56, [95]]\n"
     ]
    }
   ],
   "source": [
    "a = [10,23,56,[78]]\n",
    "b = list(a)\n",
    "a[3][0] = 95\n",
    "a[1] = 34\n",
    "print(b)"
   ]
  },
  {
   "cell_type": "markdown",
   "metadata": {},
   "source": [
    "#### Row wise Sum"
   ]
  },
  {
   "cell_type": "code",
   "execution_count": 15,
   "metadata": {},
   "outputs": [
    {
     "name": "stdout",
     "output_type": "stream",
     "text": [
      "4 2  \n",
      "1 2 3 4 5 6 7 8\n",
      "3 7 11 15\n"
     ]
    }
   ],
   "source": [
    "def rowWiseSum(arr):\n",
    "    m = len(arr)\n",
    "    if m!= 0:\n",
    "        n = len(arr[0])\n",
    "        ans = []\n",
    "        for i in arr:\n",
    "            sum = 0\n",
    "            for j in i:\n",
    "                sum += j\n",
    "            ans.append(sum)\n",
    "        return ans\n",
    "    return []\n",
    "    pass\n",
    "\n",
    "m, n=(int(i) for i in input().strip().split(' '))\n",
    "l=[int(i) for i in input().strip().split(' ')]\n",
    "arr = [ [ l[(j*n)+i] for i in range(n)] for j in range(m)]\n",
    "l=rowWiseSum(arr)\n",
    "print(*l)"
   ]
  },
  {
   "cell_type": "markdown",
   "metadata": {},
   "source": [
    "#### Wave Print"
   ]
  },
  {
   "cell_type": "code",
   "execution_count": 22,
   "metadata": {},
   "outputs": [
    {
     "name": "stdout",
     "output_type": "stream",
     "text": [
      "3 4 1 2 3 4 5 6 7 8 9 10 11 12\n",
      "1 5 9 10 6 2 3 7 11 12 8 4 "
     ]
    }
   ],
   "source": [
    "def wavePrint(arr):\n",
    "    m = len(arr)\n",
    "    if m != 0:\n",
    "        n = len(arr[0])\n",
    "        flag = True\n",
    "        for i in range(n):\n",
    "            if flag:\n",
    "                for j in range(m):\n",
    "                    print(arr[j][i], end =\" \")\n",
    "                flag = False\n",
    "            else:\n",
    "                for j in range(m-1,0,-1):\n",
    "                    print(arr[j][i] , end = \" \")\n",
    "                print(arr[0][i], end = \" \")\n",
    "                flag = True\n",
    "    \n",
    "    return\n",
    "\n",
    "#Main\n",
    "l=[int(i) for i in input().strip().split(' ')]\n",
    "m, n=l[0], l[1]\n",
    "arr = [ [ l[(j*n)+i+2] for i in range(n)] for j in range(m)]\n",
    "wavePrint(arr)\n"
   ]
  },
  {
   "cell_type": "markdown",
   "metadata": {},
   "source": [
    "#### Remove Consecutive Duplicates"
   ]
  },
  {
   "cell_type": "code",
   "execution_count": 25,
   "metadata": {},
   "outputs": [
    {
     "name": "stdout",
     "output_type": "stream",
     "text": [
      "aaabbbccc\n",
      "abc\n"
     ]
    }
   ],
   "source": [
    "s = input()\n",
    "n = len(s)\n",
    "ans = s[0]\n",
    "i = 1\n",
    "while i < n:\n",
    "    if s[i] != s[i-1]:\n",
    "        ans = ans + s[i]\n",
    "    i+=1\n",
    "print(ans)"
   ]
  },
  {
   "cell_type": "markdown",
   "metadata": {},
   "source": [
    "#### Reverse Each Word"
   ]
  },
  {
   "cell_type": "code",
   "execution_count": 30,
   "metadata": {},
   "outputs": [
    {
     "name": "stdout",
     "output_type": "stream",
     "text": [
      "Welcome to Coding Ninjas\n",
      "emocleW ot gnidoC sajniN\n"
     ]
    }
   ],
   "source": [
    "s = input().split()\n",
    "n = len(s)\n",
    "for i in range(n):\n",
    "    s[i] = s[i][::-1]\n",
    "ans = ' '\n",
    "ans = ans.join(s)\n",
    "print(ans)"
   ]
  },
  {
   "cell_type": "markdown",
   "metadata": {},
   "source": [
    "#### Highest Occurring Character"
   ]
  },
  {
   "cell_type": "code",
   "execution_count": 34,
   "metadata": {},
   "outputs": [
    {
     "name": "stdout",
     "output_type": "stream",
     "text": [
      "aaabbb\n",
      "a\n"
     ]
    }
   ],
   "source": [
    "s = input()\n",
    "n = len(s)\n",
    "count = [0 for i in range(256)]\n",
    "for i in range(n):\n",
    "    count[ord(s[i])]+=1\n",
    "ans = 0\n",
    "char = '0'\n",
    "for i in range(n):\n",
    "    if count[ord(s[i])] > ans:\n",
    "        ans = count[ord(s[i])]\n",
    "        char = s[i]\n",
    "print(char)"
   ]
  },
  {
   "cell_type": "markdown",
   "metadata": {},
   "source": [
    "#### Arrange Numbers in the Array"
   ]
  },
  {
   "cell_type": "code",
   "execution_count": 39,
   "metadata": {},
   "outputs": [
    {
     "name": "stdout",
     "output_type": "stream",
     "text": [
      "0\n",
      "\n"
     ]
    }
   ],
   "source": [
    "def arrange(arr, n) :\n",
    "    index = 0\n",
    "    for i in range(1,n+1,2):\n",
    "        arr[index] = i\n",
    "        index+=1\n",
    "    index = n-1\n",
    "    for i in range(2,n+1,2):\n",
    "        arr[index] = i\n",
    "        index-=1\n",
    "def printList(arr, n) :\n",
    "    for i in range(n) :\n",
    "        print(arr[i], end = ' ')\n",
    "    print()\n",
    "\n",
    "\n",
    "\n",
    "#main\n",
    "n = int(input().strip())\n",
    "arr = n * [0]\n",
    "\n",
    "arrange(arr, n)\n",
    "printList(arr, n)"
   ]
  },
  {
   "cell_type": "markdown",
   "metadata": {},
   "source": [
    "#### Leaders in array"
   ]
  },
  {
   "cell_type": "code",
   "execution_count": 7,
   "metadata": {},
   "outputs": [
    {
     "name": "stdout",
     "output_type": "stream",
     "text": [
      "5\n",
      "1 2 3 4 5\n",
      "5 "
     ]
    }
   ],
   "source": [
    "n = int(input())\n",
    "arr = [int(i) for i in input().strip().split()]\n",
    "maximum = arr[n-1]\n",
    "ans = [] \n",
    "for i in range(n-1,-1,-1):\n",
    "    if arr[i] >= maximum:\n",
    "        maximum = arr[i]\n",
    "        ans.append(maximum)\n",
    "n = len(ans)\n",
    "for i in range(n-1, -1, -1):\n",
    "    print(ans[i],end = \" \")"
   ]
  },
  {
   "cell_type": "markdown",
   "metadata": {},
   "source": [
    "#### Maximise the sum"
   ]
  },
  {
   "cell_type": "code",
   "execution_count": 5,
   "metadata": {},
   "outputs": [
    {
     "name": "stdout",
     "output_type": "stream",
     "text": [
      "6\n",
      "1 2 3 4 5 6\n",
      "5\n",
      "3 5 7 9 10\n",
      "41\n"
     ]
    }
   ],
   "source": [
    "n = int(input())\n",
    "a = [int(i) for i in input().strip().split()]\n",
    "m = int(input())\n",
    "b = [int(i) for i in input().strip().split()]\n",
    "i = 0\n",
    "j = 0\n",
    "suma = 0\n",
    "sumb = 0\n",
    "result = 0\n",
    "while i < n and j < m:\n",
    "    if a[i] < b[j]:\n",
    "        suma+=a[i]\n",
    "        i+=1\n",
    "    elif b[j] < a[i]:\n",
    "        sumb+=b[j]\n",
    "        j+=1\n",
    "    else:\n",
    "        result += max(suma, sumb)\n",
    "        suma = 0\n",
    "        sumb = 0\n",
    "        while i < n and j < m and a[i] == b[j]:\n",
    "            result+=a[i]\n",
    "            i+=1\n",
    "            j+=1\n",
    "while i < n:\n",
    "    suma+=a[i]\n",
    "    i+=1\n",
    "while j < m:\n",
    "    sumb+=b[j]\n",
    "    j+=1\n",
    "result+= max(suma, sumb)\n",
    "print(result)"
   ]
  },
  {
   "cell_type": "markdown",
   "metadata": {},
   "source": [
    "#### Largest Row or Column"
   ]
  },
  {
   "cell_type": "code",
   "execution_count": 60,
   "metadata": {},
   "outputs": [
    {
     "name": "stdout",
     "output_type": "stream",
     "text": [
      "3 3\n",
      "3 6 9 1 4 7 2 8 9\n",
      "column 2 25\n"
     ]
    }
   ],
   "source": [
    "import sys\n",
    "def largestRowCol(arr):\n",
    "    n = len(arr)\n",
    "    if(n != 0):\n",
    "        m = len(arr[0])\n",
    "        ans = -sys.maxsize-1\n",
    "        row = -1\n",
    "        for i in range(n):\n",
    "            sum = 0\n",
    "            for j in range(m):\n",
    "                sum += arr[i][j]\n",
    "            if(sum > ans):\n",
    "                ans = sum\n",
    "                row = i\n",
    "        col = -1\n",
    "        for j in range(m):\n",
    "            sum = 0\n",
    "            for i in range(n):\n",
    "                sum+= arr[i][j]\n",
    "            if(sum > ans):\n",
    "                ans = sum\n",
    "                col = j\n",
    "        if col != -1:\n",
    "            return ['column', col, ans]\n",
    "        else:\n",
    "            return ['row', row, ans]\n",
    "    pass\n",
    "\n",
    "#Main\n",
    "m, n=(int(i) for i in input().strip().split(' '))\n",
    "l=[int(i) for i in input().strip().split(' ')]\n",
    "arr = [ [ l[(j*n)+i] for i in range(n)] for j in range(m)]\n",
    "l=largestRowCol(arr)\n",
    "print(*l)\n"
   ]
  },
  {
   "cell_type": "markdown",
   "metadata": {},
   "source": [
    "#### Print Spiral"
   ]
  },
  {
   "cell_type": "code",
   "execution_count": 67,
   "metadata": {},
   "outputs": [
    {
     "name": "stdout",
     "output_type": "stream",
     "text": [
      " 4 4 1 2 3 4 5 6 7 8 9 10 11 12 13 14 15 16\n",
      "1 2 3 4 8 12 16 15 14 13 9 5 6 7 11 10 "
     ]
    }
   ],
   "source": [
    "def spiralPrint(arr):\n",
    "    n = len(arr)\n",
    "    if n != 0:\n",
    "        m = len(arr[0])\n",
    "        rs = 0\n",
    "        cs = 0\n",
    "        re = n\n",
    "        ce = m\n",
    "        if n == 1 and m == 1:\n",
    "            print(arr[0][0], end = \" \")\n",
    "            return\n",
    "        while rs < re and cs < ce:\n",
    "            print(*arr[rs][cs:ce], end = \" \")\n",
    "            i = rs + 1\n",
    "            while i < re:\n",
    "                print(arr[i][ce-1], end = \" \")\n",
    "                i+=1\n",
    "            if cs == 0:\n",
    "                print(*arr[re-1][ce-2::-1], end = \" \")\n",
    "            else:\n",
    "                print(*arr[re-1][ce-2:cs-1:-1], end = \" \")\n",
    "            i = re - 2\n",
    "            while i > rs:\n",
    "                print(arr[i][cs], end = \" \")\n",
    "                i-=1\n",
    "            rs+=1\n",
    "            cs+=1\n",
    "            ce-=1\n",
    "            re-=1\n",
    "    pass\n",
    "\n",
    "#Main\n",
    "l=[int(i) for i in input().strip().split(' ')]\n",
    "m, n=l[0], l[1]\n",
    "arr = [ [ l[(j*n)+i+2] for i in range(n)] for j in range(m)]\n",
    "spiralPrint(arr)\n"
   ]
  },
  {
   "cell_type": "markdown",
   "metadata": {},
   "source": [
    "#### Fahrenheit To Celcius"
   ]
  },
  {
   "cell_type": "code",
   "execution_count": 1,
   "metadata": {},
   "outputs": [
    {
     "name": "stdout",
     "output_type": "stream",
     "text": [
      "0\n",
      "100\n",
      "20\n",
      "0\t-17\n",
      "20\t-6\n",
      "40\t4\n",
      "60\t15\n",
      "80\t26\n",
      "100\t37\n"
     ]
    }
   ],
   "source": [
    "def getCelcius(n):\n",
    "    return int((n-32)*(5/9))\n",
    "def printTable(start,end,step):\n",
    "    for i in range(start, end + 1, step):\n",
    "        print(str(i) + '\\t' + str(getCelcius(i)))\n",
    "    pass \n",
    "   \n",
    "s = int(input())\n",
    "e = int(input())\n",
    "step = int(input())\n",
    "printTable(s,e,step)"
   ]
  },
  {
   "cell_type": "markdown",
   "metadata": {},
   "source": [
    "#### Fibonacci Member"
   ]
  },
  {
   "cell_type": "code",
   "execution_count": 2,
   "metadata": {},
   "outputs": [
    {
     "name": "stdout",
     "output_type": "stream",
     "text": [
      "5\n",
      "true\n"
     ]
    }
   ],
   "source": [
    "def checkMember(n):\n",
    "    if n == 1 or n == 0:\n",
    "        return True\n",
    "    a = 0\n",
    "    b = 1\n",
    "    c = 0\n",
    "    while c <= n:\n",
    "        if c == n:\n",
    "            return True\n",
    "        c = a + b\n",
    "        a = b\n",
    "        b = c\n",
    "    else:\n",
    "        return False\n",
    "    pass\n",
    "\n",
    "n=int(input())\n",
    "if(checkMember(n)):\n",
    "    print(\"true\")\n",
    "else:\n",
    "    print(\"false\")"
   ]
  },
  {
   "cell_type": "markdown",
   "metadata": {},
   "source": [
    "#### Highest frequency number"
   ]
  },
  {
   "cell_type": "code",
   "execution_count": 15,
   "metadata": {},
   "outputs": [
    {
     "name": "stdout",
     "output_type": "stream",
     "text": [
      "10 \n",
      "1 1 1 1 4 4 4 4 5 5\n",
      "1\n"
     ]
    }
   ],
   "source": [
    "def maxFreq(l):\n",
    "    count = {}\n",
    "    for i in l:\n",
    "        if count.get(i)!=None:\n",
    "            count[i]+=1\n",
    "        else:\n",
    "            count[i] = 1\n",
    "    ans = 0\n",
    "    countans = 0\n",
    "    for i in l:\n",
    "        if count[i] > countans:\n",
    "            ans = i\n",
    "            countans = count[i]\n",
    "    return ans\n",
    "    pass\n",
    "\n",
    "# Main\n",
    "n=int(input())\n",
    "l=list(int(i) for i in input().strip().split(' '))\n",
    "print(maxFreq(l))\n"
   ]
  },
  {
   "cell_type": "markdown",
   "metadata": {},
   "source": [
    "#### Maximum Distance"
   ]
  },
  {
   "cell_type": "code",
   "execution_count": 18,
   "metadata": {},
   "outputs": [
    {
     "name": "stdout",
     "output_type": "stream",
     "text": [
      "9\n",
      "1  3  1  4  5  6  4  8  3\n",
      "7\n"
     ]
    }
   ],
   "source": [
    "n = int(input())\n",
    "arr = [int(i) for i in input().strip().split()]\n",
    "start_index = {}\n",
    "ans = 0\n",
    "for i in range(n):\n",
    "    if start_index.get(arr[i]) != None:\n",
    "        if i - start_index.get(arr[i]) > ans:\n",
    "            ans = i - start_index.get(arr[i])\n",
    "    else:\n",
    "        start_index[arr[i]] = i\n",
    "print(ans)"
   ]
  },
  {
   "cell_type": "markdown",
   "metadata": {},
   "source": [
    "#### Make Unique Array"
   ]
  },
  {
   "cell_type": "code",
   "execution_count": 27,
   "metadata": {},
   "outputs": [
    {
     "name": "stdout",
     "output_type": "stream",
     "text": [
      "5\n",
      "2 1 4 2 1\n",
      "2\n"
     ]
    }
   ],
   "source": [
    "def duplicateCount(arr):\n",
    "    s = set()\n",
    "    count = 0\n",
    "    for i in arr:\n",
    "        if i in s:\n",
    "            count+=1\n",
    "        else:\n",
    "            s.add(i)\n",
    "    return count\n",
    "    pass\n",
    "\n",
    "# Main\n",
    "n=int(input())\n",
    "arr=list(int(i) for i in input().strip().split(' '))\n",
    "print(duplicateCount(arr)) "
   ]
  },
  {
   "cell_type": "markdown",
   "metadata": {},
   "source": [
    "#### First non repeating character"
   ]
  },
  {
   "cell_type": "code",
   "execution_count": 29,
   "metadata": {},
   "outputs": [
    {
     "name": "stdout",
     "output_type": "stream",
     "text": [
      "akdgjaa\n",
      "k\n"
     ]
    }
   ],
   "source": [
    "def nonRepeatingChar(string):\n",
    "    s = {}\n",
    "    for i in string:\n",
    "        if i in s:\n",
    "            s[i]+=1\n",
    "        else:\n",
    "            s[i] = 1\n",
    "    for i in string:\n",
    "        if s[i] == 1:\n",
    "            return i\n",
    "    pass\n",
    "\n",
    "# Main\n",
    "string = input()\n",
    "print(nonRepeatingChar(string))"
   ]
  },
  {
   "cell_type": "markdown",
   "metadata": {},
   "source": [
    "#### Different Names"
   ]
  },
  {
   "cell_type": "code",
   "execution_count": 31,
   "metadata": {},
   "outputs": [
    {
     "name": "stdout",
     "output_type": "stream",
     "text": [
      "Abhishek harshit Ayush harshit Ayush Iti Deepak Ayush Iti\n",
      "harshit 2\n",
      "Ayush 3\n",
      "Iti 2\n"
     ]
    }
   ],
   "source": [
    "def differentNames(l):\n",
    "    s = {}\n",
    "    for i in l:\n",
    "        if i in s:\n",
    "            s[i] += 1\n",
    "        else:\n",
    "            s[i] = 1\n",
    "    ans = {}\n",
    "    for i in s:\n",
    "        if s[i] > 1:\n",
    "            ans[i] = s[i]\n",
    "    del s\n",
    "    return ans\n",
    "    pass\n",
    "\n",
    "# Main\n",
    "names=input().strip().split()\n",
    "m=differentNames(names)\n",
    "if m:\n",
    "    for name in m:\n",
    "        print(name, m[name])\n",
    "else:\n",
    "    print(-1)"
   ]
  },
  {
   "cell_type": "markdown",
   "metadata": {},
   "source": [
    "#### Even Count"
   ]
  },
  {
   "cell_type": "code",
   "execution_count": 32,
   "metadata": {},
   "outputs": [
    {
     "name": "stdout",
     "output_type": "stream",
     "text": [
      "6\n",
      "2 5 3 5 3 4 \n",
      "5\n"
     ]
    }
   ],
   "source": [
    "def evenCount(arr):\n",
    "    s = {}\n",
    "    for i in arr:\n",
    "        if i in s:\n",
    "            s[i] += 1\n",
    "        else:\n",
    "            s[i] = 1\n",
    "    for i in arr:\n",
    "        if s[i]%2 == 0:\n",
    "            return i\n",
    "    pass\n",
    "n=int(input())\n",
    "arr=list(int(i) for i in input().strip().split(' '))\n",
    "print(evenCount(arr))"
   ]
  },
  {
   "cell_type": "markdown",
   "metadata": {},
   "source": [
    "#### Unique triangles"
   ]
  },
  {
   "cell_type": "code",
   "execution_count": 41,
   "metadata": {},
   "outputs": [
    {
     "name": "stdout",
     "output_type": "stream",
     "text": [
      "5\n",
      "7 6 5\n",
      "5 7 6\n",
      "8 2 9\n",
      "2 3 4\n",
      "2 4 3\n",
      "1\n"
     ]
    }
   ],
   "source": [
    "n = int(input())\n",
    "s = {}\n",
    "for i in range(n):\n",
    "    l = [int(i) for i in input().strip().split()]\n",
    "    l.sort()\n",
    "    l = tuple(l)\n",
    "    if l in s:\n",
    "        s[l] += 1\n",
    "    else:\n",
    "        s[l] = 1\n",
    "count = 0\n",
    "for i in s:\n",
    "    if s[i] == 1:\n",
    "        count+=1\n",
    "print(count)"
   ]
  },
  {
   "cell_type": "markdown",
   "metadata": {},
   "source": [
    "#### Pairs with difference K"
   ]
  },
  {
   "cell_type": "code",
   "execution_count": 45,
   "metadata": {},
   "outputs": [
    {
     "name": "stdout",
     "output_type": "stream",
     "text": [
      "4\n",
      "4 4 4 4\n",
      "0\n",
      "4 4\n",
      "4 4\n",
      "4 4\n",
      "4 4\n",
      "4 4\n",
      "4 4\n"
     ]
    }
   ],
   "source": [
    "\n",
    "def printPairDiffK(l, k):\n",
    "    s = {}\n",
    "    l.sort()\n",
    "    for i in l:\n",
    "        if i-k in s:\n",
    "            n = s[i - k]\n",
    "            for j in range(n):\n",
    "                print(min(i,i-k),max(i,i-k))\n",
    "        if i in s:\n",
    "            s[i] += 1\n",
    "        else:\n",
    "            s[i] = 1\n",
    "n=int(input())\n",
    "l=list(int(i) for i in input().strip().split(' '))\n",
    "k=int(input())\n",
    "printPairDiffK(l, k)"
   ]
  },
  {
   "cell_type": "code",
   "execution_count": null,
   "metadata": {},
   "outputs": [],
   "source": []
  }
 ],
 "metadata": {
  "kernelspec": {
   "display_name": "Python 3",
   "language": "python",
   "name": "python3"
  },
  "language_info": {
   "codemirror_mode": {
    "name": "ipython",
    "version": 3
   },
   "file_extension": ".py",
   "mimetype": "text/x-python",
   "name": "python",
   "nbconvert_exporter": "python",
   "pygments_lexer": "ipython3",
   "version": "3.6.10"
  }
 },
 "nbformat": 4,
 "nbformat_minor": 4
}
