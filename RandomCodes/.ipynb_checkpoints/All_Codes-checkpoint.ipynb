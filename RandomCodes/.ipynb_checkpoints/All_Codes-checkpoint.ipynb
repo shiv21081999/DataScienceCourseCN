{
 "cells": [
  {
   "cell_type": "markdown",
   "metadata": {},
   "source": [
    "#### Loops with else"
   ]
  },
  {
   "cell_type": "code",
   "execution_count": 24,
   "metadata": {},
   "outputs": [
    {
     "name": "stdout",
     "output_type": "stream",
     "text": [
      "Enter a number: 10\n",
      "1 2 3 4 5 6 7 8 9 end\n"
     ]
    }
   ],
   "source": [
    "# this thing is interesting when we use it with break i.e else statement will not be executed if the condition in while \n",
    "# is true :)\n",
    "i = 1\n",
    "n = int(input(\"Enter a number: \"))\n",
    "while i < n:\n",
    "    print(i, end = \" \")\n",
    "    i +=1\n",
    "else:\n",
    "    print(\"end\")"
   ]
  },
  {
   "cell_type": "code",
   "execution_count": 25,
   "metadata": {},
   "outputs": [
    {
     "name": "stdout",
     "output_type": "stream",
     "text": [
      "Enter a number: 10\n",
      "1 2 3 4 5 6 7 8 9 end\n"
     ]
    }
   ],
   "source": [
    "# similar for \"for\" loop\n",
    "n = int(input(\"Enter a number: \"))\n",
    "for i in range(1, n):\n",
    "    print(i, end = \" \")\n",
    "else:\n",
    "    print(\"end\")"
   ]
  },
  {
   "cell_type": "code",
   "execution_count": 27,
   "metadata": {},
   "outputs": [
    {
     "name": "stdout",
     "output_type": "stream",
     "text": [
      "Enter the number: 10\n",
      "1 2 3 4 5 "
     ]
    }
   ],
   "source": [
    "# If we use else with break statement :\n",
    "i = 1\n",
    "n = int(input(\"Enter the number: \"))\n",
    "while i < n:\n",
    "    print(i, end = \" \")\n",
    "    if(i == 5):\n",
    "        break\n",
    "    i+=1\n",
    "else:\n",
    "    print(\"reached the condition\")"
   ]
  },
  {
   "cell_type": "code",
   "execution_count": 29,
   "metadata": {},
   "outputs": [
    {
     "name": "stdout",
     "output_type": "stream",
     "text": [
      "Enter a number: 10\n",
      "1 2 3 4 5 "
     ]
    }
   ],
   "source": [
    "n = int(input(\"Enter a number: \"))\n",
    "for i in range(1, n):\n",
    "    print(i, end = \" \")\n",
    "    if i == 5:\n",
    "        break\n",
    "else:\n",
    "    print(\"end\")"
   ]
  },
  {
   "cell_type": "markdown",
   "metadata": {},
   "source": [
    "#### Decimal To Binary"
   ]
  },
  {
   "cell_type": "code",
   "execution_count": 31,
   "metadata": {},
   "outputs": [
    {
     "name": "stdout",
     "output_type": "stream",
     "text": [
      "5\n",
      "101\n"
     ]
    }
   ],
   "source": [
    "n = int(input())\n",
    "ans = ''\n",
    "while n > 0:\n",
    "    r = int(n % 2)\n",
    "    ans = str(r) + ans\n",
    "    n//=2\n",
    "print(ans)"
   ]
  },
  {
   "cell_type": "markdown",
   "metadata": {},
   "source": [
    "#### Binary To Decimal "
   ]
  },
  {
   "cell_type": "code",
   "execution_count": 34,
   "metadata": {},
   "outputs": [
    {
     "name": "stdout",
     "output_type": "stream",
     "text": [
      "1000000001\n",
      "513\n"
     ]
    }
   ],
   "source": [
    "n = int(input())\n",
    "mul = 1\n",
    "ans = 0\n",
    "while(n > 0):\n",
    "    r = (int(n%10))*mul\n",
    "    ans+=r\n",
    "    mul*=2\n",
    "    n//=10\n",
    "print(ans)"
   ]
  },
  {
   "cell_type": "markdown",
   "metadata": {},
   "source": [
    "#### Even fibonacci numbers"
   ]
  },
  {
   "cell_type": "code",
   "execution_count": 36,
   "metadata": {},
   "outputs": [
    {
     "name": "stdout",
     "output_type": "stream",
     "text": [
      "8\n",
      "10\n"
     ]
    }
   ],
   "source": [
    "n = int(input())\n",
    "a = 1\n",
    "b = 1\n",
    "c = 0\n",
    "sum = 0\n",
    "while c <= n:\n",
    "    if c%2 == 0:\n",
    "        sum+=c\n",
    "    c = a+b\n",
    "    a = b\n",
    "    b = c\n",
    "print(sum)"
   ]
  },
  {
   "cell_type": "markdown",
   "metadata": {},
   "source": [
    "#### Trailing zeroes of n!"
   ]
  },
  {
   "cell_type": "code",
   "execution_count": 42,
   "metadata": {},
   "outputs": [
    {
     "name": "stdout",
     "output_type": "stream",
     "text": [
      "100\n",
      "24\n"
     ]
    }
   ],
   "source": [
    "n = int(input())\n",
    "count = 0\n",
    "mul = 5\n",
    "while mul <= n:\n",
    "    count += (n//mul)\n",
    "    mul *= 5\n",
    "print(count)"
   ]
  },
  {
   "cell_type": "markdown",
   "metadata": {},
   "source": [
    "#### Slicing"
   ]
  },
  {
   "cell_type": "code",
   "execution_count": 57,
   "metadata": {},
   "outputs": [
    {
     "name": "stdout",
     "output_type": "stream",
     "text": [
      "re yo\n",
      "o r o\n",
      "melborp eht si tahw em llet esaelp uoy era wo\n"
     ]
    },
    {
     "data": {
      "text/plain": [
       "'how are you please tell me what is the problem'"
      ]
     },
     "execution_count": 57,
     "metadata": {},
     "output_type": "execute_result"
    }
   ],
   "source": [
    "a =\"how are you please tell me what is the problem\"\n",
    "print(a[5:10])\n",
    "print(a[1:10:2]) # third argument is used to skip\n",
    "print(a[:0:-1]) #reverse slicing"
   ]
  },
  {
   "cell_type": "markdown",
   "metadata": {},
   "source": [
    "#### Check palindrome"
   ]
  },
  {
   "cell_type": "code",
   "execution_count": 60,
   "metadata": {},
   "outputs": [
    {
     "name": "stdout",
     "output_type": "stream",
     "text": [
      "acca\n",
      "true\n"
     ]
    }
   ],
   "source": [
    "s = input()\n",
    "n = len(s)\n",
    "r = -1\n",
    "flag = True\n",
    "for i in range(0,n):\n",
    "    if s[i] != s[r]:\n",
    "        flag = False\n",
    "        break\n",
    "    r-=1\n",
    "if flag:\n",
    "    print('true')\n",
    "else:\n",
    "    print('false')"
   ]
  },
  {
   "cell_type": "markdown",
   "metadata": {},
   "source": [
    "#### Print all substring"
   ]
  },
  {
   "cell_type": "code",
   "execution_count": 64,
   "metadata": {},
   "outputs": [
    {
     "name": "stdout",
     "output_type": "stream",
     "text": [
      "abc\n",
      "a\n",
      "ab\n",
      "abc\n",
      "b\n",
      "bc\n",
      "c\n"
     ]
    }
   ],
   "source": [
    "s = input()\n",
    "n = len(s)\n",
    "for i in range(n):\n",
    "    for j in range(i,n):\n",
    "        print(s[i:j+1])\n"
   ]
  },
  {
   "cell_type": "markdown",
   "metadata": {},
   "source": [
    "#### Swap Alternates"
   ]
  },
  {
   "cell_type": "code",
   "execution_count": 72,
   "metadata": {},
   "outputs": [
    {
     "name": "stdout",
     "output_type": "stream",
     "text": [
      "0\n"
     ]
    }
   ],
   "source": [
    "size = int(input())\n",
    "if size != 0:\n",
    "    arr = [int(x) for x in input().split()]\n",
    "    n = len(arr)\n",
    "    for i in range(0,n-1,2):\n",
    "        temp = arr[i]\n",
    "        arr[i] = arr[i+1]\n",
    "        arr[i+1] = temp\n",
    "    for i in arr:\n",
    "        print(i,end = \" \")"
   ]
  },
  {
   "cell_type": "markdown",
   "metadata": {},
   "source": [
    "#### Array Equilibrium index"
   ]
  },
  {
   "cell_type": "code",
   "execution_count": 78,
   "metadata": {},
   "outputs": [
    {
     "name": "stdout",
     "output_type": "stream",
     "text": [
      "7\n",
      "-7 1 5 2 -4 3 0\n",
      "3\n"
     ]
    }
   ],
   "source": [
    "n = int(input())\n",
    "if n != 0:\n",
    "    arr = [int(i) for i in input().split()]\n",
    "    prev = [] \n",
    "    later = [0 for i in range(n)]\n",
    "    prev.append(0)\n",
    "    for i in range(1,n):\n",
    "        prev.append(prev[i-1]+arr[i-1])\n",
    "    for i in range(n-2,0,-1):\n",
    "        later[i] = later[i+1] + arr[i+1]\n",
    "    later[0] = later[1] + arr[1]\n",
    "    flag = False\n",
    "    for i in range(n):\n",
    "        if later[i] == prev[i]:\n",
    "            print(i)\n",
    "            flag = True\n",
    "            break\n",
    "    if flag != True:\n",
    "        print(-1)\n",
    "else:\n",
    "    print(-1)"
   ]
  },
  {
   "cell_type": "code",
   "execution_count": 80,
   "metadata": {},
   "outputs": [
    {
     "data": {
      "text/plain": [
       "6"
      ]
     },
     "execution_count": 80,
     "metadata": {},
     "output_type": "execute_result"
    }
   ],
   "source": []
  },
  {
   "cell_type": "code",
   "execution_count": null,
   "metadata": {},
   "outputs": [],
   "source": []
  }
 ],
 "metadata": {
  "kernelspec": {
   "display_name": "Python 3",
   "language": "python",
   "name": "python3"
  },
  "language_info": {
   "codemirror_mode": {
    "name": "ipython",
    "version": 3
   },
   "file_extension": ".py",
   "mimetype": "text/x-python",
   "name": "python",
   "nbconvert_exporter": "python",
   "pygments_lexer": "ipython3",
   "version": "3.6.10"
  }
 },
 "nbformat": 4,
 "nbformat_minor": 4
}
